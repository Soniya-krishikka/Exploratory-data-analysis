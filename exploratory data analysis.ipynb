{
 "cells": [
  {
   "cell_type": "code",
   "execution_count": null,
   "id": "75393e5b-d1b3-4893-a3e9-94b40872bcae",
   "metadata": {},
   "outputs": [],
   "source": [
    "import pandas as pd\n",
    "import numpy as np\n",
    "import matplotlib.pyplot as plt\n",
    "import seaborn as sns\n",
    "\n",
    "# Load the dataset (replace 'your_dataset.csv' with the path to your dataset)\n",
    "df = pd.read_csv(\"C:\\\\Users\\\\subal\\\\Downloads\\\\USvideos.csv\")"
   ]
  },
  {
   "cell_type": "code",
   "execution_count": null,
   "id": "ae6a08d8-bb7a-444a-8770-35b20a9066bf",
   "metadata": {},
   "outputs": [],
   "source": [
    "print(\"Basic Information:\")\n",
    "print(df.info())\n",
    "print(\"\\n\")"
   ]
  },
  {
   "cell_type": "code",
   "execution_count": null,
   "id": "090d310a-779a-4401-88b6-d7e7196a71f6",
   "metadata": {},
   "outputs": [],
   "source": [
    "# Display summary statistics\n",
    "print(\"Summary Statistics:\")\n",
    "print(df.describe())\n",
    "print(\"\\n\")"
   ]
  },
  {
   "cell_type": "code",
   "execution_count": null,
   "id": "2cb27a26-a721-43c9-a9c4-141d3c2265c2",
   "metadata": {
    "scrolled": true
   },
   "outputs": [],
   "source": [
    "# Visualize the distribution of variables\n",
    "def plot_distribution(df):\n",
    "    for column in df.select_dtypes(include=['float64', 'int64']).columns:\n",
    "        plt.figure(figsize=(6, 4))\n",
    "        sns.histplot(df[column], kde=True)\n",
    "        plt.title(f'Distribution of {column}')\n",
    "        plt.xlabel(column)\n",
    "        plt.ylabel('Frequency')\n",
    "        plt.show()\n",
    "plot_distribution(df)"
   ]
  },
  {
   "cell_type": "code",
   "execution_count": null,
   "id": "5024b825-b2b8-4994-b939-61ce127a6f57",
   "metadata": {},
   "outputs": [],
   "source": [
    "# Identify outliers using box plots\n",
    "def plot_boxplots(df):\n",
    "    for column in df.select_dtypes(include=['float64', 'int64']).columns:\n",
    "        plt.figure(figsize=(10, 6))\n",
    "        sns.boxplot(x=df[column])\n",
    "        plt.title(f'Box plot of {column}')\n",
    "        plt.xlabel(column)\n",
    "        plt.show()\n",
    "plot_boxplots(df)"
   ]
  },
  {
   "cell_type": "code",
   "execution_count": null,
   "id": "8d122486-5056-442e-8096-403f5d1a3b42",
   "metadata": {},
   "outputs": [],
   "source": [
    "# Check for correlations between variables\n",
    "def plot_correlations(df):\n",
    "    plt.figure(figsize=(12, 8))\n",
    "    numeric_df = df.select_dtypes(include=['float64', 'int64'])\n",
    "    correlation_matrix = numeric_df.corr()\n",
    "    sns.heatmap(correlation_matrix, annot=True, cmap='coolwarm', fmt='.2f')\n",
    "    plt.title('Correlation Matrix')\n",
    "    plt.show()\n",
    "\n",
    "plot_correlations(df)\n"
   ]
  }
 ],
 "metadata": {
  "kernelspec": {
   "display_name": "Python 3 (ipykernel)",
   "language": "python",
   "name": "python3"
  },
  "language_info": {
   "codemirror_mode": {
    "name": "ipython",
    "version": 3
   },
   "file_extension": ".py",
   "mimetype": "text/x-python",
   "name": "python",
   "nbconvert_exporter": "python",
   "pygments_lexer": "ipython3",
   "version": "3.11.7"
  }
 },
 "nbformat": 4,
 "nbformat_minor": 5
}
